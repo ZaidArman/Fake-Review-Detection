{
  "nbformat": 4,
  "nbformat_minor": 0,
  "metadata": {
    "colab": {
      "provenance": []
    },
    "kernelspec": {
      "name": "python3",
      "display_name": "Python 3"
    },
    "language_info": {
      "name": "python"
    }
  },
  "cells": [
    {
      "cell_type": "markdown",
      "source": [
        "# LSTM Model"
      ],
      "metadata": {
        "id": "Tk_QpUXQaIuZ"
      }
    },
    {
      "cell_type": "code",
      "source": [
        "from tensorflow.keras.models import load_model\n",
        "import pickle\n",
        "from tensorflow.keras.preprocessing.sequence import pad_sequences"
      ],
      "metadata": {
        "id": "y-CZbf9DcC88"
      },
      "execution_count": 9,
      "outputs": []
    },
    {
      "cell_type": "code",
      "execution_count": 35,
      "metadata": {
        "id": "8LlWT6SIaGmg"
      },
      "outputs": [],
      "source": [
        "# Load the model\n",
        "model = load_model('/content/reviews_classification_model.h5') # Old\n",
        "\n",
        "# model = load_model('/content/fake_reviews_model_new.h5') # New\n",
        "\n",
        "# Load the tokenizer\n",
        "with open('/content/tokenizers.pkl', 'rb') as f: # Old\n",
        "    tokenizer = pickle.load(f)\n",
        "\n",
        "# Load the tokenizer\n",
        "# with open('/content/tokenizer.pickle', 'rb') as f:  # New\n",
        "#     tokenizer = pickle.load(f)"
      ]
    },
    {
      "cell_type": "code",
      "source": [
        "def preprocess_text(text, tokenizer, max_len):\n",
        "    text_seq = tokenizer.texts_to_sequences([text])\n",
        "    text_pad = pad_sequences(text_seq, maxlen=max_len)\n",
        "    return text_pad"
      ],
      "metadata": {
        "id": "2Pwmm0PFcNkg"
      },
      "execution_count": 36,
      "outputs": []
    },
    {
      "cell_type": "code",
      "source": [
        "input_text = input(\"Enter Review Comment for testing the model: \")\n",
        "input_text"
      ],
      "metadata": {
        "colab": {
          "base_uri": "https://localhost:8080/",
          "height": 52
        },
        "id": "K8Fi6t5gcROc",
        "outputId": "437c963d-43a8-429a-97f0-0d5581915d00"
      },
      "execution_count": 57,
      "outputs": [
        {
          "name": "stdout",
          "output_type": "stream",
          "text": [
            "Enter Review Comment for testing the model: very bad product they send the usable glasses its glasses full of scratches.\n"
          ]
        },
        {
          "output_type": "execute_result",
          "data": {
            "text/plain": [
              "'very bad product they send the usable glasses its glasses full of scratches.'"
            ],
            "application/vnd.google.colaboratory.intrinsic+json": {
              "type": "string"
            }
          },
          "metadata": {},
          "execution_count": 57
        }
      ]
    },
    {
      "cell_type": "code",
      "source": [
        "\n",
        "# max_len = 395 # New\n",
        "max_len = 100 # Old\n",
        "\n",
        "input_text_pad = preprocess_text(input_text, tokenizer, max_len)\n",
        "\n",
        "# Predict the label (1 for genuine, 0 for fake)\n",
        "predicted_label = model.predict(input_text_pad)[0][0]\n",
        "\n",
        "# Classify based on the predicted label\n",
        "if predicted_label >= 0.8:\n",
        "    print(\"The review is Genuine\")\n",
        "else:\n",
        "    print(\"The review is Fake\")"
      ],
      "metadata": {
        "colab": {
          "base_uri": "https://localhost:8080/"
        },
        "id": "ClkFTaOicXIj",
        "outputId": "aabf229d-e8d8-431c-9fd5-1fc0ef698082"
      },
      "execution_count": 58,
      "outputs": [
        {
          "output_type": "stream",
          "name": "stdout",
          "text": [
            "1/1 [==============================] - 0s 51ms/step\n",
            "The review is Fake\n"
          ]
        }
      ]
    },
    {
      "cell_type": "markdown",
      "source": [
        "# ML Stack Models"
      ],
      "metadata": {
        "id": "utOhSlNvaLap"
      }
    },
    {
      "cell_type": "code",
      "source": [
        "import pandas as pd\n",
        "import re\n",
        "import string\n",
        "import joblib\n",
        "from sklearn.feature_extraction.text import TfidfVectorizer\n",
        "from sklearn.model_selection import train_test_split\n",
        "from sklearn.svm import SVC\n",
        "from sklearn.naive_bayes import MultinomialNB\n",
        "from sklearn.linear_model import LogisticRegression\n",
        "from sklearn.ensemble import StackingClassifier\n",
        "from nltk.stem import WordNetLemmatizer"
      ],
      "metadata": {
        "id": "8OiGvpIrayXu"
      },
      "execution_count": 1,
      "outputs": []
    },
    {
      "cell_type": "code",
      "source": [
        "# Load the model and vectorizer\n",
        "loaded_stacked_model = joblib.load('/content/stacked_model.pkl')\n",
        "loaded_vectorizer = joblib.load('/content/vectorizer.pkl')"
      ],
      "metadata": {
        "id": "8P0T4NNsaNzO"
      },
      "execution_count": 2,
      "outputs": []
    },
    {
      "cell_type": "code",
      "source": [
        "# Inference function\n",
        "def predict_review(review):\n",
        "    review_vectorized = loaded_vectorizer.transform([review])\n",
        "    prediction = loaded_stacked_model.predict(review_vectorized)\n",
        "    return prediction"
      ],
      "metadata": {
        "id": "DaF5bdQ7aaUZ"
      },
      "execution_count": 3,
      "outputs": []
    },
    {
      "cell_type": "code",
      "source": [
        "# Example inference\n",
        "input_review = \"Too bad product\""
      ],
      "metadata": {
        "id": "zs62XtQgajAm"
      },
      "execution_count": 6,
      "outputs": []
    },
    {
      "cell_type": "code",
      "source": [
        "print(f\"Prediction for Inference review: {predict_review(input_review)}\") # 0 for fake & 1 for real"
      ],
      "metadata": {
        "colab": {
          "base_uri": "https://localhost:8080/"
        },
        "id": "DE_nyK-eaegw",
        "outputId": "548db6c0-651b-45dd-94a2-6b7a80f88386"
      },
      "execution_count": 7,
      "outputs": [
        {
          "output_type": "stream",
          "name": "stdout",
          "text": [
            "Prediction for Inference review: [0]\n"
          ]
        }
      ]
    },
    {
      "cell_type": "code",
      "source": [],
      "metadata": {
        "id": "zmWNw9Fvbfl_"
      },
      "execution_count": null,
      "outputs": []
    }
  ]
}